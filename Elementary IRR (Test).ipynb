{
 "cells": [
  {
   "cell_type": "code",
   "execution_count": 25,
   "id": "d68ed8c2",
   "metadata": {},
   "outputs": [
    {
     "name": "stdout",
     "output_type": "stream",
     "text": [
      "Example: -0.1412054635605089\n"
     ]
    }
   ],
   "source": [
    "import numpy_financial as npf\n",
    "cf1 = [-20000, 4000, 2000, 8000]\n",
    "print(\"Example: \" + str(npf.irr(cf1)))"
   ]
  },
  {
   "cell_type": "code",
   "execution_count": 58,
   "id": "d76611b8",
   "metadata": {},
   "outputs": [
    {
     "name": "stdout",
     "output_type": "stream",
     "text": [
      "IRR equals 0.0821\n"
     ]
    }
   ],
   "source": [
    "investment_cost = -50000\n",
    "returns = [1000, 2000, 3000]\n",
    "\n",
    "#You receive 10 of each stock.\n",
    "\n",
    "result = [item * 10 for item in returns]\n",
    "\n",
    "cf1 = [int(investment_cost), result[0], result[1], result[2]]\n",
    "\n",
    "IRR = str(('%.4f' % npf.irr(cf1)))\n",
    "\n",
    "print((\"IRR equals \") + IRR)"
   ]
  },
  {
   "cell_type": "code",
   "execution_count": null,
   "id": "2228d710",
   "metadata": {},
   "outputs": [],
   "source": []
  }
 ],
 "metadata": {
  "kernelspec": {
   "display_name": "Python 3 (ipykernel)",
   "language": "python",
   "name": "python3"
  },
  "language_info": {
   "codemirror_mode": {
    "name": "ipython",
    "version": 3
   },
   "file_extension": ".py",
   "mimetype": "text/x-python",
   "name": "python",
   "nbconvert_exporter": "python",
   "pygments_lexer": "ipython3",
   "version": "3.9.13"
  }
 },
 "nbformat": 4,
 "nbformat_minor": 5
}
